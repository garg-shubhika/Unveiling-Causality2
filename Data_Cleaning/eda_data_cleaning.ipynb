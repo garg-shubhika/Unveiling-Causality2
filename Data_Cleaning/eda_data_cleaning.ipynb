{
 "cells": [
  {
   "cell_type": "code",
   "execution_count": 1,
   "id": "873daa96",
   "metadata": {},
   "outputs": [
    {
     "name": "stdout",
     "output_type": "stream",
     "text": [
      "Original DataFrame:\n",
      "                                    causal_text_w_pairs  \\\n",
      "0     ['The State alleged <ARG1>they hacked Sabata P...   \n",
      "1                                                    []   \n",
      "2     [\"<ARG1>The farmworkers ' strike resumed on Tu...   \n",
      "3     ['<ARG1>Demonstrators have filed for a permit<...   \n",
      "4     ['<ARG0>Footage of the attack , which included...   \n",
      "...                                                 ...   \n",
      "3070  ['She said <ARG1>the group had to be dispersed...   \n",
      "3071                                                 []   \n",
      "3072                                                 []   \n",
      "3073  ['Tirupur : Protests against lack of amenities...   \n",
      "3074  ['<ARG1>People blocked the entrance to the May...   \n",
      "\n",
      "                                           cleaned_text  \n",
      "0     ['The State alleged <ARG1>they hacked Sabata P...  \n",
      "1                                                    []  \n",
      "2     [\"<ARG1>The farmworkers ' strike resumed on Tu...  \n",
      "3     ['<ARG1>Demonstrators have filed for a permit<...  \n",
      "4     ['<ARG0>Footage of the attack , which included...  \n",
      "...                                                 ...  \n",
      "3070  ['She said <ARG1>the group had to be dispersed...  \n",
      "3071                                                 []  \n",
      "3072                                                 []  \n",
      "3073  ['Tirupur  Protests against lack of amenities ...  \n",
      "3074  ['<ARG1>People blocked the entrance to the May...  \n",
      "\n",
      "[3075 rows x 2 columns]\n",
      "Modified DataFrame saved to cleaned_output_train_subtask2.csv\n"
     ]
    }
   ],
   "source": [
    "import pandas as pd\n",
    "import re\n",
    "\n",
    "def remove_backslash(text):\n",
    "    # Remove \\x97\n",
    "    result = re.sub(r'\\\\x97', '', text)\n",
    "    # Remove specific patterns like \\ufeff and \\x92\n",
    "    result = re.sub(r'\\\\[ux][0-9a-fA-F]+', '', result)\n",
    "    # Remove characters other than alphabets, <, >, /, [, ], comma, and brackets\n",
    "    result = re.sub(r'[^\\w\\s<>/\\[\\],\\'\"?\\-]', '', result)\n",
    "\n",
    "    return result\n",
    "\n",
    "# Read the CSV file into a pandas DataFrame\n",
    "file_path = 'train_subtask2_grouped.csv'  # Replace with your actual input CSV file path\n",
    "output_file_path = 'cleaned_output_train_subtask2.csv'  # Replace with your desired output CSV file path\n",
    "\n",
    "df = pd.read_csv(file_path)\n",
    "\n",
    "# Apply remove_backslash function to the 'causal_text_w_pairs' column\n",
    "df['cleaned_text'] = df['causal_text_w_pairs'].apply(remove_backslash)\n",
    "\n",
    "# Print the original and modified DataFrame\n",
    "print(\"Original DataFrame:\")\n",
    "print(df[['causal_text_w_pairs', 'cleaned_text']])\n",
    "\n",
    "# Save the modified DataFrame to a new CSV file\n",
    "df.to_csv(output_file_path, index=False)\n",
    "print(f\"Modified DataFrame saved to {output_file_path}\")"
   ]
  },
  {
   "cell_type": "code",
   "execution_count": 2,
   "id": "01c76a32",
   "metadata": {},
   "outputs": [
    {
     "name": "stdout",
     "output_type": "stream",
     "text": [
      "Text file saved to output_cleaned_train_subtask2.txt\n"
     ]
    }
   ],
   "source": [
    "import pandas as pd\n",
    "\n",
    "# Read the CSV file into a pandas DataFrame\n",
    "file_path = 'cleaned_output_train_subtask2.csv'  # Replace with the actual path of your CSV file\n",
    "df = pd.read_csv(file_path)\n",
    "\n",
    "# Exclude rows where num_rs is 0\n",
    "df = df[df['num_rs'] != 0]\n",
    "\n",
    "# Specify the output text file\n",
    "output_txt_file = 'output_cleaned_train_subtask2.txt'  # Replace with the desired output text file path\n",
    "\n",
    "# Write the cleaned text and num_rs columns to the text file\n",
    "with open(output_txt_file, 'w', encoding='utf-8') as file:\n",
    "    for index, row in df.iterrows():\n",
    "        num_rs = row['num_rs']\n",
    "        cleaned_text = row['cleaned_text']\n",
    "        file.write(f\"{num_rs}\\t{cleaned_text}\\n\")\n",
    "\n",
    "print(f\"Text file saved to {output_txt_file}\")"
   ]
  },
  {
   "cell_type": "code",
   "execution_count": null,
   "id": "99abf170",
   "metadata": {},
   "outputs": [],
   "source": []
  }
 ],
 "metadata": {
  "kernelspec": {
   "display_name": "Python 3 (ipykernel)",
   "language": "python",
   "name": "python3"
  },
  "language_info": {
   "codemirror_mode": {
    "name": "ipython",
    "version": 3
   },
   "file_extension": ".py",
   "mimetype": "text/x-python",
   "name": "python",
   "nbconvert_exporter": "python",
   "pygments_lexer": "ipython3",
   "version": "3.9.13"
  }
 },
 "nbformat": 4,
 "nbformat_minor": 5
}
