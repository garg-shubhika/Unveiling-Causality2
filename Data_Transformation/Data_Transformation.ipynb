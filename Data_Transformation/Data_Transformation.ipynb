{
 "cells": [
  {
   "cell_type": "markdown",
   "id": "cec23dfc",
   "metadata": {},
   "source": [
    "## Read the .txt file and convert it into .csv file and adding column headers "
   ]
  },
  {
   "cell_type": "code",
   "execution_count": 2,
   "id": "e79acdaa",
   "metadata": {},
   "outputs": [],
   "source": [
    "import pandas as pd\n",
    "\n",
    "# Reading the given CSV file\n",
    "#df = pd.read_csv(\"eda_2_output_cleaned_train_subtask2.txt\", header=None, delimiter='\\t')\n",
    "df = pd.read_csv(\"eda_3_output_cleaned_train_subtask2.txt\", header=None, delimiter='\\t')\n",
    "\n",
    "# Adding column headings\n",
    "df.columns = ['num_rs', 'causal_text_w_pairs']\n",
    "\n",
    "# Store the DataFrame into a new CSV file with swapped columns\n",
    "df.to_csv('eda_3_output_transformed_train_subtask2.csv', index=None, columns=['causal_text_w_pairs', 'num_rs'])\n"
   ]
  },
  {
   "cell_type": "markdown",
   "id": "32a40870",
   "metadata": {},
   "source": [
    "## Add 'corpus', 'doc_id', 'sent_id', 'eg_id', 'index' columns "
   ]
  },
  {
   "cell_type": "code",
   "execution_count": 3,
   "id": "d079c314",
   "metadata": {},
   "outputs": [],
   "source": [
    "import pandas as pd\n",
    "\n",
    "# Reading the given CSV file\n",
    "df = pd.read_csv(\"eda_3_output_transformed_train_subtask2.csv\")\n",
    "\n",
    "# Adding a new column 'sent_id' starting from 10000 and incrementing by 1\n",
    "df['sent_id'] = range(10000, 10000 + len(df))\n",
    "\n",
    "# Adding a new column 'corpus' with constant value 'cnc'\n",
    "df['corpus'] = 'cnc'\n",
    "\n",
    "# Adding a new column 'eg_id' with constant value 0\n",
    "df['eg_id'] = 0\n",
    "\n",
    "# Adding a new column 'doc_id' with values 'train_1000_10000' where 'train_' is constant, and the other two values are incremented by 1\n",
    "df['doc_id'] = [f'train_{i}_{j}' for i, j in zip(range(1000, 1000 + len(df)), range(10000, 10000 + len(df)))]\n",
    "\n",
    "# Adding a new column 'index' with values based on variables i, j, k\n",
    "df['index'] = [f'cnc_train_{i}_{j}_{k}_10' for i, j, k in zip(range(100, 100 + len(df)), range(1000, 1000 + len(df)), range(10000, 10000 + len(df)))]\n",
    "\n",
    "# Reordering columns\n",
    "df = df[['corpus', 'doc_id', 'sent_id', 'eg_id', 'index', 'causal_text_w_pairs', 'num_rs']]\n",
    "\n",
    "# Store the DataFrame into  CSV file with the added 'sent_id' column\n",
    "df.to_csv('eda_3_output_transformed_train_subtask2.csv', index=None)\n"
   ]
  },
  {
   "cell_type": "markdown",
   "id": "aefe37c3",
   "metadata": {},
   "source": [
    "## Create 'text' column from causal_text_w_pairs by removing arg and sig elements"
   ]
  },
  {
   "cell_type": "code",
   "execution_count": 6,
   "id": "67b64204",
   "metadata": {},
   "outputs": [],
   "source": [
    "import pandas as pd\n",
    "import re\n",
    "\n",
    "# Reading the given CSV file\n",
    "df = pd.read_csv(\"eda_3_output_transformed_train_subtask2.csv\")\n",
    "\n",
    "# Adding a new column 'text' with the same data as 'causal_text_w_pairs' but without <arg1>, <arg0>, <sig0> tags\n",
    "df['text'] = df['causal_text_w_pairs'].apply(lambda x: re.sub(r'<(/?arg[01]|/?sig0)>', '', x))\n",
    "\n",
    "# Remove square brackets from the 'text' column sentences\n",
    "df['text'] = df['text'].apply(lambda x: re.sub(r'[\\[\\]]', '', x))\n",
    "# Reordering columns\n",
    "df = df[['corpus', 'doc_id', 'sent_id', 'eg_id', 'index', 'text', 'causal_text_w_pairs', 'num_rs']]\n",
    "\n",
    "# Store the DataFrame into a CSV file with the added columns\n",
    "df.to_csv('eda_3_output_transformed_train_subtask2.csv', index=None)"
   ]
  }
 ],
 "metadata": {
  "kernelspec": {
   "display_name": "Python 3 (ipykernel)",
   "language": "python",
   "name": "python3"
  },
  "language_info": {
   "codemirror_mode": {
    "name": "ipython",
    "version": 3
   },
   "file_extension": ".py",
   "mimetype": "text/x-python",
   "name": "python",
   "nbconvert_exporter": "python",
   "pygments_lexer": "ipython3",
   "version": "3.9.13"
  }
 },
 "nbformat": 4,
 "nbformat_minor": 5
}
